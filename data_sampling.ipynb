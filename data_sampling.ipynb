{
 "cells": [
  {
   "cell_type": "code",
   "execution_count": null,
   "id": "0f0853d1",
   "metadata": {},
   "outputs": [],
   "source": [
    "import pandas as pd\n",
    "import numpy as np"
   ]
  },
  {
   "cell_type": "code",
   "execution_count": 11,
   "id": "f4e9c831",
   "metadata": {},
   "outputs": [
    {
     "data": {
      "text/plain": [
       "malignant\n",
       "0.0    217183\n",
       "1.0       294\n",
       "Name: count, dtype: int64"
      ]
     },
     "execution_count": 11,
     "metadata": {},
     "output_type": "execute_result"
    }
   ],
   "source": [
    "ground_truth_labels = pd.read_csv(\n",
    "    \"ISIC_2024_Permissive_Training_GroundTruth.csv\", header=0\n",
    ")\n",
    "ground_truth_labels[\"malignant\"].value_counts()"
   ]
  },
  {
   "cell_type": "code",
   "execution_count": 12,
   "id": "13501150",
   "metadata": {},
   "outputs": [],
   "source": [
    "# Number of benign images to sample\n",
    "benign_sample_num = 10000 - 294"
   ]
  },
  {
   "cell_type": "code",
   "execution_count": 13,
   "id": "44773bbb",
   "metadata": {},
   "outputs": [
    {
     "name": "stdout",
     "output_type": "stream",
     "text": [
      "<class 'pandas.core.frame.DataFrame'>\n",
      "RangeIndex: 217477 entries, 0 to 217476\n",
      "Data columns (total 2 columns):\n",
      " #   Column     Non-Null Count   Dtype  \n",
      "---  ------     --------------   -----  \n",
      " 0   isic_id    217477 non-null  object \n",
      " 1   malignant  217477 non-null  float64\n",
      "dtypes: float64(1), object(1)\n",
      "memory usage: 3.3+ MB\n"
     ]
    }
   ],
   "source": [
    "ground_truth_labels.info()"
   ]
  },
  {
   "cell_type": "code",
   "execution_count": 14,
   "id": "7b37ec45",
   "metadata": {},
   "outputs": [
    {
     "data": {
      "text/plain": [
       "malignant\n",
       "0.0    400666\n",
       "1.0       393\n",
       "Name: count, dtype: int64"
      ]
     },
     "execution_count": 14,
     "metadata": {},
     "output_type": "execute_result"
    }
   ],
   "source": [
    "complete_ground_truth_labels = pd.read_csv(\n",
    "    \"ISIC_2024_Training_GroundTruth.csv\", header=0\n",
    ")\n",
    "complete_ground_truth_labels[\"malignant\"].value_counts()"
   ]
  },
  {
   "cell_type": "code",
   "execution_count": 15,
   "id": "43b200c0",
   "metadata": {},
   "outputs": [
    {
     "data": {
      "text/plain": [
       "0         ISIC_0015670\n",
       "1         ISIC_0015845\n",
       "2         ISIC_0015864\n",
       "3         ISIC_0015902\n",
       "4         ISIC_0024200\n",
       "              ...     \n",
       "217472    ISIC_9999854\n",
       "217473    ISIC_9999919\n",
       "217474    ISIC_9999951\n",
       "217475    ISIC_9999960\n",
       "217476    ISIC_9999967\n",
       "Length: 217477, dtype: object"
      ]
     },
     "execution_count": 15,
     "metadata": {},
     "output_type": "execute_result"
    }
   ],
   "source": [
    "# Find if there are duplicates between SLICE-3D and SLICE-3D Permissive datasets\n",
    "pd.Series(\n",
    "    np.intersect1d(\n",
    "        ground_truth_labels[\"isic_id\"].values,\n",
    "        complete_ground_truth_labels[\"isic_id\"].values,\n",
    "    )\n",
    ")"
   ]
  },
  {
   "cell_type": "markdown",
   "id": "ed615d8e",
   "metadata": {},
   "source": [
    "As shown above, SLICE-3D (400k samples) are inclusive of SLICE-3D Permissive. So if we were to sample test data from SLICE-3D, we start from the entries indexed at 217477 and onward to avoid using the same data for training."
   ]
  },
  {
   "cell_type": "code",
   "execution_count": 16,
   "id": "396249a1",
   "metadata": {},
   "outputs": [
    {
     "data": {
      "text/plain": [
       "93394     ISIC_4349311\n",
       "126189    ISIC_5855526\n",
       "33972     ISIC_1616913\n",
       "26090     ISIC_1255517\n",
       "203592    ISIC_9367679\n",
       "101538    ISIC_4724653\n",
       "208683    ISIC_9596614\n",
       "33472     ISIC_1594138\n",
       "202809    ISIC_9330731\n",
       "197920    ISIC_9109189\n",
       "Name: isic_id, dtype: object"
      ]
     },
     "execution_count": 16,
     "metadata": {},
     "output_type": "execute_result"
    }
   ],
   "source": [
    "isic_ids = ground_truth_labels.loc[ground_truth_labels[\"malignant\"] == 0, \"isic_id\"]\n",
    "sampled_benign_ids = isic_ids.sample(n=benign_sample_num, random_state=1, replace=False)\n",
    "sampled_benign_ids[:10]"
   ]
  },
  {
   "cell_type": "code",
   "execution_count": 17,
   "id": "76402fd0",
   "metadata": {},
   "outputs": [
    {
     "data": {
      "text/plain": [
       "294"
      ]
     },
     "execution_count": 17,
     "metadata": {},
     "output_type": "execute_result"
    }
   ],
   "source": [
    "malignant_ids = ground_truth_labels.loc[\n",
    "    ground_truth_labels[\"malignant\"] == 1, \"isic_id\"\n",
    "]\n",
    "len(malignant_ids)"
   ]
  },
  {
   "cell_type": "code",
   "execution_count": null,
   "id": "efdffbc9",
   "metadata": {},
   "outputs": [],
   "source": [
    "df_benign = pd.DataFrame({\"isic_id\": sampled_benign_ids, \"label\": 0})\n",
    "df_malignant = pd.DataFrame({\"isic_id\": malignant_ids, \"label\": 1})\n",
    "df_all = pd.concat([df_benign, df_malignant], ignore_index=True)\n",
    "df_all.to_csv(\"labels.csv\", index=False)"
   ]
  },
  {
   "cell_type": "code",
   "execution_count": 2,
   "id": "8946a0dd",
   "metadata": {},
   "outputs": [],
   "source": [
    "import shutil\n",
    "from pathlib import Path\n",
    "import os"
   ]
  },
  {
   "cell_type": "code",
   "execution_count": null,
   "id": "7acb3d20",
   "metadata": {},
   "outputs": [],
   "source": [
    "print(\"Current working directory:\", os.getcwd())\n",
    "\n",
    "image_dir = Path(\n",
    "    r\"ISIC_2024_Permissive_Training_Input/ISIC_2024_Permissive_Training_Input\"\n",
    ")\n",
    "output_dir = Path(\"filtered_benign_images\")\n",
    "\n",
    "output_dir.mkdir(exist_ok=True)\n",
    "\n",
    "for isic_id in sampled_benign_ids:\n",
    "    src = image_dir / f\"{isic_id}.jpg\"\n",
    "    dst = output_dir / f\"{isic_id}.jpg\"\n",
    "    if src.exists():\n",
    "        shutil.copy(src, dst)"
   ]
  },
  {
   "cell_type": "code",
   "execution_count": null,
   "id": "c1aa7c42",
   "metadata": {},
   "outputs": [],
   "source": [
    "output_dir = Path(\"filtered_malignant_images\")\n",
    "\n",
    "output_dir.mkdir(exist_ok=True)\n",
    "\n",
    "for isic_id in malignant_ids:\n",
    "    src = image_dir / f\"{isic_id}.jpg\"\n",
    "    dst = output_dir / f\"{isic_id}.jpg\"\n",
    "    if src.exists():\n",
    "        shutil.copy(src, dst)"
   ]
  },
  {
   "cell_type": "code",
   "execution_count": null,
   "id": "f520bcce",
   "metadata": {},
   "outputs": [
    {
     "data": {
      "text/plain": [
       "malignant\n",
       "0.0    183402\n",
       "1.0       180\n",
       "Name: count, dtype: int64"
      ]
     },
     "execution_count": 44,
     "metadata": {},
     "output_type": "execute_result"
    }
   ],
   "source": [
    "# isic_ids from the rest of the full SLICE-3D dataset\n",
    "test_sampling = complete_ground_truth_labels[217477:]\n",
    "\n",
    "test_sampling[\"malignant\"].value_counts()"
   ]
  },
  {
   "cell_type": "code",
   "execution_count": null,
   "id": "e24d0d83",
   "metadata": {},
   "outputs": [
    {
     "data": {
      "text/plain": [
       "183582"
      ]
     },
     "execution_count": 37,
     "metadata": {},
     "output_type": "execute_result"
    }
   ],
   "source": [
    "testing_ids = test_sampling[\"isic_id\"]\n",
    "expected_file_names = [f\"{isic_id}.jpg\" for isic_id in testing_ids]\n",
    "len(expected_file_names)"
   ]
  },
  {
   "cell_type": "code",
   "execution_count": null,
   "id": "62b551af",
   "metadata": {},
   "outputs": [],
   "source": [
    "# Copy over the non-overlapping images from SLICE-3D image archive to a separate folder\n",
    "# for further sampling for validation and test sets\n",
    "\n",
    "archive_root = r\".\\ISIC_2024_Training_Input\"\n",
    "dest_folder = r\".\\val_and_test_samples\"\n",
    "\n",
    "\n",
    "def bulk_copy(needed_files, archive_root, dest_folder):\n",
    "    needed = set(needed_files) - set(os.listdir(dest_folder))\n",
    "    os.makedirs(dest_folder, exist_ok=True)\n",
    "\n",
    "    for root, _, files in os.walk(archive_root):\n",
    "        for f in files:\n",
    "            if f in needed:\n",
    "                src = os.path.join(archive_root, f)\n",
    "                dst = os.path.join(dest_folder, f)\n",
    "                if not os.path.exists(dst):\n",
    "                    shutil.copy(src, dst)\n",
    "                    needed.remove(f)\n",
    "\n",
    "                if not needed:\n",
    "                    return\n",
    "\n",
    "\n",
    "bulk_copy(\n",
    "    expected_file_names,\n",
    "    archive_root,\n",
    "    dest_folder,\n",
    ")"
   ]
  },
  {
   "cell_type": "code",
   "execution_count": null,
   "id": "3d7bc77b",
   "metadata": {},
   "outputs": [
    {
     "data": {
      "text/html": [
       "<div>\n",
       "<style scoped>\n",
       "    .dataframe tbody tr th:only-of-type {\n",
       "        vertical-align: middle;\n",
       "    }\n",
       "\n",
       "    .dataframe tbody tr th {\n",
       "        vertical-align: top;\n",
       "    }\n",
       "\n",
       "    .dataframe thead th {\n",
       "        text-align: right;\n",
       "    }\n",
       "</style>\n",
       "<table border=\"1\" class=\"dataframe\">\n",
       "  <thead>\n",
       "    <tr style=\"text-align: right;\">\n",
       "      <th></th>\n",
       "      <th>isic_id</th>\n",
       "      <th>malignant</th>\n",
       "    </tr>\n",
       "  </thead>\n",
       "  <tbody>\n",
       "    <tr>\n",
       "      <th>400260</th>\n",
       "      <td>ISIC_9980921</td>\n",
       "      <td>0.0</td>\n",
       "    </tr>\n",
       "    <tr>\n",
       "      <th>368269</th>\n",
       "      <td>ISIC_9186636</td>\n",
       "      <td>0.0</td>\n",
       "    </tr>\n",
       "    <tr>\n",
       "      <th>295236</th>\n",
       "      <td>ISIC_7388916</td>\n",
       "      <td>0.0</td>\n",
       "    </tr>\n",
       "    <tr>\n",
       "      <th>254399</th>\n",
       "      <td>ISIC_6389483</td>\n",
       "      <td>0.0</td>\n",
       "    </tr>\n",
       "    <tr>\n",
       "      <th>398494</th>\n",
       "      <td>ISIC_9937229</td>\n",
       "      <td>0.0</td>\n",
       "    </tr>\n",
       "    <tr>\n",
       "      <th>...</th>\n",
       "      <td>...</td>\n",
       "      <td>...</td>\n",
       "    </tr>\n",
       "    <tr>\n",
       "      <th>256567</th>\n",
       "      <td>ISIC_6441176</td>\n",
       "      <td>0.0</td>\n",
       "    </tr>\n",
       "    <tr>\n",
       "      <th>291166</th>\n",
       "      <td>ISIC_7286349</td>\n",
       "      <td>0.0</td>\n",
       "    </tr>\n",
       "    <tr>\n",
       "      <th>351189</th>\n",
       "      <td>ISIC_8769948</td>\n",
       "      <td>0.0</td>\n",
       "    </tr>\n",
       "    <tr>\n",
       "      <th>318190</th>\n",
       "      <td>ISIC_7954681</td>\n",
       "      <td>0.0</td>\n",
       "    </tr>\n",
       "    <tr>\n",
       "      <th>229138</th>\n",
       "      <td>ISIC_5758088</td>\n",
       "      <td>0.0</td>\n",
       "    </tr>\n",
       "  </tbody>\n",
       "</table>\n",
       "<p>910 rows × 2 columns</p>\n",
       "</div>"
      ],
      "text/plain": [
       "             isic_id  malignant\n",
       "400260  ISIC_9980921        0.0\n",
       "368269  ISIC_9186636        0.0\n",
       "295236  ISIC_7388916        0.0\n",
       "254399  ISIC_6389483        0.0\n",
       "398494  ISIC_9937229        0.0\n",
       "...              ...        ...\n",
       "256567  ISIC_6441176        0.0\n",
       "291166  ISIC_7286349        0.0\n",
       "351189  ISIC_8769948        0.0\n",
       "318190  ISIC_7954681        0.0\n",
       "229138  ISIC_5758088        0.0\n",
       "\n",
       "[910 rows x 2 columns]"
      ]
     },
     "execution_count": 65,
     "metadata": {},
     "output_type": "execute_result"
    }
   ],
   "source": [
    "# Sample 1000 images for validation and test sets respectively. Since there are 180 malignant images\n",
    "# from SLICE-3D file that are not used in the train set, split these 180 samples 50/50 for validation\n",
    "# and test\n",
    "\n",
    "validation_num = 1_000\n",
    "validation_malignant = 90\n",
    "\n",
    "test_num = 1_000\n",
    "test_malignant = 90\n",
    "\n",
    "benign_sample_ids = test_sampling.loc[test_sampling[\"malignant\"] == 0]\n",
    "malignant_sample_ids = test_sampling.loc[test_sampling[\"malignant\"] == 1]\n",
    "\n",
    "# Sample validation set for benign and malignant classes\n",
    "benign_val_samples = benign_sample_ids.sample(\n",
    "    n=validation_num - validation_malignant, random_state=1, replace=False\n",
    ")\n",
    "malignant_val_samples = malignant_sample_ids.sample(\n",
    "    n=validation_malignant, random_state=1, replace=False\n",
    ")\n",
    "\n",
    "\n",
    "# Sample test set for benign and malignant classes\n",
    "remaining_benign_ids = benign_sample_ids[\n",
    "    ~benign_sample_ids[\"isic_id\"].isin(benign_val_samples[\"isic_id\"])\n",
    "]\n",
    "benign_test_samples = remaining_benign_ids.sample(\n",
    "    n=test_num - test_malignant, random_state=1, replace=False\n",
    ")\n",
    "malignant_test_samples = malignant_sample_ids[\n",
    "    ~malignant_sample_ids[\"isic_id\"].isin(malignant_val_samples[\"isic_id\"])\n",
    "]"
   ]
  },
  {
   "cell_type": "code",
   "execution_count": 3,
   "id": "d386c0a7",
   "metadata": {},
   "outputs": [],
   "source": [
    "# print(\"Current working directory:\", os.getcwd())\n",
    "new_path = str(Path.home() / \"Downloads\")\n",
    "os.chdir(new_path)"
   ]
  },
  {
   "cell_type": "code",
   "execution_count": null,
   "id": "220f223a",
   "metadata": {},
   "outputs": [],
   "source": [
    "# Copy over the samples images into validation and test folders\n",
    "\n",
    "# Copy over benign samples for validation set\n",
    "image_dir = Path(\"val_and_test_samples\")\n",
    "output_dir = Path(\"skin_cancer_val/benign\")\n",
    "\n",
    "output_dir.mkdir(exist_ok=True)\n",
    "\n",
    "for isic_id in benign_val_samples[\"isic_id\"]:\n",
    "    src = image_dir / f\"{isic_id}.jpg\"\n",
    "    dst = output_dir / f\"{isic_id}.jpg\"\n",
    "    if src.exists():\n",
    "        shutil.copy(src, dst)\n",
    "\n",
    "# Copy over malignant samples for validation set\n",
    "output_dir = Path(\"skin_cancer_val/malignant\")\n",
    "\n",
    "output_dir.mkdir(exist_ok=True)\n",
    "\n",
    "for isic_id in malignant_val_samples[\"isic_id\"]:\n",
    "    src = image_dir / f\"{isic_id}.jpg\"\n",
    "    dst = output_dir / f\"{isic_id}.jpg\"\n",
    "    if src.exists():\n",
    "        shutil.copy(src, dst)"
   ]
  },
  {
   "cell_type": "code",
   "execution_count": null,
   "id": "7c6c1807",
   "metadata": {},
   "outputs": [],
   "source": [
    "# Copy over benign samples for test set\n",
    "\n",
    "image_dir = Path(\"val_and_test_samples\")\n",
    "output_dir = Path(\"skin_cancer_test/benign\")\n",
    "\n",
    "output_dir.mkdir(exist_ok=True)\n",
    "\n",
    "for isic_id in benign_test_samples[\"isic_id\"]:\n",
    "    src = image_dir / f\"{isic_id}.jpg\"\n",
    "    dst = output_dir / f\"{isic_id}.jpg\"\n",
    "    if src.exists():\n",
    "        shutil.copy(src, dst)\n",
    "\n",
    "# Copy over malignant samples for test set\n",
    "output_dir = Path(\"skin_cancer_test/malignant\")\n",
    "\n",
    "output_dir.mkdir(exist_ok=True)\n",
    "\n",
    "for isic_id in malignant_test_samples[\"isic_id\"]:\n",
    "    src = image_dir / f\"{isic_id}.jpg\"\n",
    "    dst = output_dir / f\"{isic_id}.jpg\"\n",
    "    if src.exists():\n",
    "        shutil.copy(src, dst)"
   ]
  }
 ],
 "metadata": {
  "kernelspec": {
   "display_name": "my_torch_env",
   "language": "python",
   "name": "python3"
  },
  "language_info": {
   "codemirror_mode": {
    "name": "ipython",
    "version": 3
   },
   "file_extension": ".py",
   "mimetype": "text/x-python",
   "name": "python",
   "nbconvert_exporter": "python",
   "pygments_lexer": "ipython3",
   "version": "3.10.17"
  }
 },
 "nbformat": 4,
 "nbformat_minor": 5
}
